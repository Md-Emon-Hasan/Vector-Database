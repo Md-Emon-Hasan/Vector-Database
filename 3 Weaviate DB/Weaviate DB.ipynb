{
 "cells": [
  {
   "cell_type": "code",
   "execution_count": 2,
   "metadata": {},
   "outputs": [],
   "source": [
    "# Import necessary libraries\n",
    "import weaviate\n",
    "from langchain.document_loaders import DirectoryLoader\n",
    "from langchain.text_splitter import RecursiveCharacterTextSplitter\n",
    "from langchain.vectorstores import Weaviate\n",
    "from langchain.embeddings import HuggingFaceEmbeddings"
   ]
  },
  {
   "cell_type": "code",
   "execution_count": 4,
   "metadata": {},
   "outputs": [],
   "source": [
    "# Set API Keys and Weaviate Cluster details\n",
    "WEAVIATE_API_KEY = \"\"  # Replace with your actual API key\n",
    "WEAVIATE_CLUSTER = \"\"  # Replace with your Weaviate cluster URL"
   ]
  },
  {
   "cell_type": "code",
   "execution_count": 19,
   "metadata": {},
   "outputs": [
    {
     "name": "stdout",
     "output_type": "stream",
     "text": [
      "WEAVIATE_API_KEY: None\n"
     ]
    }
   ],
   "source": [
    "import os\n",
    "\n",
    "# Check if the environment variables are set correctly\n",
    "# print(\"WEAVIATE_URL:\", os.environ.get(WEAVIATE_URL))\n",
    "print(\"WEAVIATE_API_KEY:\", os.environ.get(WEAVIATE_API_KEY))\n"
   ]
  },
  {
   "cell_type": "code",
   "execution_count": 13,
   "metadata": {},
   "outputs": [
    {
     "ename": "KeyError",
     "evalue": "'https://o5jj81kzsl6gjvxyq2m5vq.c0.us-east1.gcp.weaviate.cloud'",
     "output_type": "error",
     "traceback": [
      "\u001b[1;31m---------------------------------------------------------------------------\u001b[0m",
      "\u001b[1;31mKeyError\u001b[0m                                  Traceback (most recent call last)",
      "Cell \u001b[1;32mIn[13], line 6\u001b[0m\n\u001b[0;32m      3\u001b[0m \u001b[38;5;28;01mfrom\u001b[39;00m\u001b[38;5;250m \u001b[39m\u001b[38;5;21;01mweaviate\u001b[39;00m\u001b[38;5;21;01m.\u001b[39;00m\u001b[38;5;21;01mauth\u001b[39;00m\u001b[38;5;250m \u001b[39m\u001b[38;5;28;01mimport\u001b[39;00m AuthApiKey\n\u001b[0;32m      5\u001b[0m \u001b[38;5;66;03m# Best practice: store your credentials in environment variables\u001b[39;00m\n\u001b[1;32m----> 6\u001b[0m wcd_url \u001b[38;5;241m=\u001b[39m \u001b[43mos\u001b[49m\u001b[38;5;241;43m.\u001b[39;49m\u001b[43menviron\u001b[49m\u001b[43m[\u001b[49m\u001b[38;5;124;43m\"\u001b[39;49m\u001b[38;5;124;43mhttps://o5jj81kzsl6gjvxyq2m5vq.c0.us-east1.gcp.weaviate.cloud\u001b[39;49m\u001b[38;5;124;43m\"\u001b[39;49m\u001b[43m]\u001b[49m  \u001b[38;5;66;03m# Use the key \"WEAVIATE_URL\"\u001b[39;00m\n\u001b[0;32m      7\u001b[0m wcd_api_key \u001b[38;5;241m=\u001b[39m os\u001b[38;5;241m.\u001b[39menviron[\u001b[38;5;124m\"\u001b[39m\u001b[38;5;124mIOd2nZR0NZKUV4SsbPEs9VJIQYRwdhwYQtmJ\u001b[39m\u001b[38;5;124m\"\u001b[39m]  \u001b[38;5;66;03m# Use the key \"WEAVIATE_API_KEY\"\u001b[39;00m\n\u001b[0;32m      9\u001b[0m \u001b[38;5;66;03m# Initialize the Weaviate client using the correct method\u001b[39;00m\n",
      "File \u001b[1;32mc:\\Program Files\\Python39\\lib\\os.py:679\u001b[0m, in \u001b[0;36m_Environ.__getitem__\u001b[1;34m(self, key)\u001b[0m\n\u001b[0;32m    676\u001b[0m     value \u001b[38;5;241m=\u001b[39m \u001b[38;5;28mself\u001b[39m\u001b[38;5;241m.\u001b[39m_data[\u001b[38;5;28mself\u001b[39m\u001b[38;5;241m.\u001b[39mencodekey(key)]\n\u001b[0;32m    677\u001b[0m \u001b[38;5;28;01mexcept\u001b[39;00m \u001b[38;5;167;01mKeyError\u001b[39;00m:\n\u001b[0;32m    678\u001b[0m     \u001b[38;5;66;03m# raise KeyError with the original key value\u001b[39;00m\n\u001b[1;32m--> 679\u001b[0m     \u001b[38;5;28;01mraise\u001b[39;00m \u001b[38;5;167;01mKeyError\u001b[39;00m(key) \u001b[38;5;28;01mfrom\u001b[39;00m\u001b[38;5;250m \u001b[39m\u001b[38;5;28;01mNone\u001b[39;00m\n\u001b[0;32m    680\u001b[0m \u001b[38;5;28;01mreturn\u001b[39;00m \u001b[38;5;28mself\u001b[39m\u001b[38;5;241m.\u001b[39mdecodevalue(value)\n",
      "\u001b[1;31mKeyError\u001b[0m: 'https://o5jj81kzsl6gjvxyq2m5vq.c0.us-east1.gcp.weaviate.cloud'"
     ]
    }
   ],
   "source": [
    "import os\n",
    "import weaviate\n",
    "from weaviate.auth import AuthApiKey\n",
    "\n",
    "# Best practice: store your credentials in environment variables\n",
    "wcd_url = os.environ[\"\"]  # Use the key \"WEAVIATE_URL\"\n",
    "wcd_api_key = os.environ[\"\"]  # Use the key \"WEAVIATE_API_KEY\"\n",
    "\n",
    "# Initialize the Weaviate client using the correct method\n",
    "client = weaviate.Client(\n",
    "    url=wcd_url,  # Your Weaviate Cloud URL\n",
    "    auth_client_secret=AuthApiKey(wcd_api_key)  # API Key for authentication\n",
    ")\n",
    "\n",
    "# Check if the client is ready\n",
    "print(\"Weaviate connected:\", client.is_ready())  # Method to check connection status\n"
   ]
  },
  {
   "cell_type": "code",
   "execution_count": 5,
   "metadata": {},
   "outputs": [
    {
     "name": "stderr",
     "output_type": "stream",
     "text": [
      "C:\\Users\\emon1\\AppData\\Local\\Temp\\ipykernel_10272\\2895696113.py:3: DeprecationWarning: \n",
      "Python client v3 `weaviate.Client(...)` has been removed.\n",
      "\n",
      "Upgrade your code to use Python client v4 `weaviate.WeaviateClient` connections and methods.\n",
      "    - For Python Client v4 usage, see: https://weaviate.io/developers/weaviate/client-libraries/python\n",
      "    - For code migration, see: https://weaviate.io/developers/weaviate/client-libraries/python/v3_v4_migration\n",
      "\n",
      "If you have to use v3 code, install the v3 client and pin the v3 dependency in your requirements file: `weaviate-client>=3.26.7;<4.0.0`\n",
      "  client = weaviate.Client(\n"
     ]
    },
    {
     "ename": "TypeError",
     "evalue": "__init__() got an unexpected keyword argument 'url'",
     "output_type": "error",
     "traceback": [
      "\u001b[1;31m---------------------------------------------------------------------------\u001b[0m",
      "\u001b[1;31mTypeError\u001b[0m                                 Traceback (most recent call last)",
      "Cell \u001b[1;32mIn[5], line 3\u001b[0m\n\u001b[0;32m      1\u001b[0m \u001b[38;5;66;03m# Connect to Weaviate Cluster\u001b[39;00m\n\u001b[0;32m      2\u001b[0m auth_config \u001b[38;5;241m=\u001b[39m weaviate\u001b[38;5;241m.\u001b[39mauth\u001b[38;5;241m.\u001b[39mAuthApiKey(api_key\u001b[38;5;241m=\u001b[39mWEAVIATE_API_KEY)\n\u001b[1;32m----> 3\u001b[0m client \u001b[38;5;241m=\u001b[39m \u001b[43mweaviate\u001b[49m\u001b[38;5;241;43m.\u001b[39;49m\u001b[43mClient\u001b[49m\u001b[43m(\u001b[49m\n\u001b[0;32m      4\u001b[0m \u001b[43m    \u001b[49m\u001b[43murl\u001b[49m\u001b[38;5;241;43m=\u001b[39;49m\u001b[43mWEAVIATE_CLUSTER\u001b[49m\u001b[43m,\u001b[49m\n\u001b[0;32m      5\u001b[0m \u001b[43m    \u001b[49m\u001b[43mauth_client_secret\u001b[49m\u001b[38;5;241;43m=\u001b[39;49m\u001b[43mauth_config\u001b[49m\u001b[43m,\u001b[49m\n\u001b[0;32m      6\u001b[0m \u001b[43m    \u001b[49m\u001b[43mstartup_period\u001b[49m\u001b[38;5;241;43m=\u001b[39;49m\u001b[38;5;241;43m10\u001b[39;49m\n\u001b[0;32m      7\u001b[0m \u001b[43m)\u001b[49m\n",
      "\u001b[1;31mTypeError\u001b[0m: __init__() got an unexpected keyword argument 'url'"
     ]
    }
   ],
   "source": [
    "# Connect to Weaviate Cluster\n",
    "auth_config = weaviate.auth.AuthApiKey(api_key=WEAVIATE_API_KEY)\n",
    "client = weaviate.Client(\n",
    "    url=WEAVIATE_CLUSTER,\n",
    "    auth_client_secret=auth_config,\n",
    "    startup_period=10\n",
    ")"
   ]
  },
  {
   "cell_type": "code",
   "execution_count": null,
   "metadata": {},
   "outputs": [],
   "source": [
    "# Connect to Weaviate Cluster\n",
    "auth_config = weaviate.auth.AuthApiKey(api_key=WEAVIATE_API_KEY)\n",
    "client = weaviate.Client(\n",
    "    url=WEAVIATE_CLUSTER,\n",
    "    auth_client_secret=auth_config,\n",
    "    startup_period=10\n",
    ")\n",
    "\n",
    "# Check if Weaviate is ready\n",
    "print(\"Weaviate is ready:\", client.is_ready())\n",
    "\n",
    "# Step 1: Load PDF Data\n",
    "loader = DirectoryLoader(\"./data\", glob=\"**/*.pdf\")  # Loads all PDFs from the \"data\" folder\n",
    "data = loader.load()\n",
    "print(f\"Loaded {len(data)} documents.\")\n",
    "\n",
    "# Step 2: Split Documents into Smaller Chunks\n",
    "text_splitter = RecursiveCharacterTextSplitter(chunk_size=1000, chunk_overlap=20)\n",
    "docs = text_splitter.split_documents(data)\n",
    "print(f\"Split into {len(docs)} chunks.\")\n",
    "\n",
    "# Step 3: Initialize Hugging Face Embeddings (Alternative to OpenAI)\n",
    "embeddings = HuggingFaceEmbeddings(model_name=\"sentence-transformers/all-MiniLM-L6-v2\")\n",
    "\n",
    "# Step 4: Define Weaviate Schema (Database Structure)\n",
    "client.schema.delete_all()  # Delete existing schema (if needed)\n",
    "schema = {\n",
    "    \"classes\": [\n",
    "        {\n",
    "            \"class\": \"Chatbot\",\n",
    "            \"description\": \"Documents for chatbot\",\n",
    "            \"vectorizer\": \"text2vec-transformers\",  # Using Hugging Face instead of OpenAI\n",
    "            \"moduleConfig\": {\"text2vec-transformers\": {}},  # No extra config needed\n",
    "            \"properties\": [\n",
    "                {\n",
    "                    \"dataType\": [\"text\"],\n",
    "                    \"description\": \"The content of the paragraph\",\n",
    "                    \"name\": \"content\",\n",
    "                },\n",
    "            ],\n",
    "        },\n",
    "    ]\n",
    "}\n",
    "\n",
    "client.schema.create(schema)\n",
    "print(\"Weaviate schema created.\")\n",
    "\n",
    "# Step 5: Store Text Chunks in Weaviate\n",
    "vectorstore = Weaviate(client, \"Chatbot\", \"content\", attributes=[\"source\"])\n",
    "text_meta_pair = [(doc.page_content, doc.metadata) for doc in docs]\n",
    "texts, meta = list(zip(*text_meta_pair))\n",
    "vectorstore.add_texts(texts, meta)\n",
    "print(\"Documents uploaded to Weaviate.\")\n",
    "\n",
    "# Step 6: Perform Similarity Search\n",
    "query = \"What is YOLO?\"\n",
    "docs = vectorstore.similarity_search(query, top_k=5)  # Retrieve top 5 most relevant texts\n",
    "print(\"Search results:\", docs)\n",
    "\n",
    "# Print retrieved documents\n",
    "for i, doc in enumerate(docs, 1):\n",
    "    print(f\"\\nResult {i}:\\n\", doc.page_content)\n"
   ]
  },
  {
   "cell_type": "code",
   "execution_count": null,
   "metadata": {},
   "outputs": [],
   "source": [
    "# Install required libraries\n",
    "!pip install weaviate-client langchain unstructured \"unstructured[pdf]\" sentence-transformers\n",
    "\n",
    "# Import necessary libraries\n",
    "import weaviate\n",
    "from langchain.document_loaders import DirectoryLoader\n",
    "from langchain.text_splitter import RecursiveCharacterTextSplitter\n",
    "from langchain.vectorstores import Weaviate\n",
    "from langchain.embeddings import HuggingFaceEmbeddings\n",
    "\n",
    "# Set API Keys and Weaviate Cluster details\n",
    "WEAVIATE_API_KEY = \"your-weaviate-api-key\"  # Replace with your actual API key\n",
    "WEAVIATE_CLUSTER = \"https://your-cluster-url.weaviate.network\"  # Replace with your Weaviate cluster URL\n",
    "\n",
    "# Connect to Weaviate Cluster\n",
    "auth_config = weaviate.auth.AuthApiKey(api_key=WEAVIATE_API_KEY)\n",
    "client = weaviate.Client(\n",
    "    url=WEAVIATE_CLUSTER,\n",
    "    auth_client_secret=auth_config,\n",
    "    startup_period=10\n",
    ")\n",
    "\n",
    "# Check if Weaviate is ready\n",
    "print(\"Weaviate is ready:\", client.is_ready())\n",
    "\n",
    "# Step 1: Load PDF Data\n",
    "loader = DirectoryLoader(\"./data\", glob=\"**/*.pdf\")  # Loads all PDFs from the \"data\" folder\n",
    "data = loader.load()\n",
    "print(f\"Loaded {len(data)} documents.\")\n",
    "\n",
    "# Step 2: Split Documents into Smaller Chunks\n",
    "text_splitter = RecursiveCharacterTextSplitter(chunk_size=1000, chunk_overlap=20)\n",
    "docs = text_splitter.split_documents(data)\n",
    "print(f\"Split into {len(docs)} chunks.\")\n",
    "\n",
    "# Step 3: Initialize Hugging Face Embeddings (Alternative to OpenAI)\n",
    "embeddings = HuggingFaceEmbeddings(model_name=\"sentence-transformers/all-MiniLM-L6-v2\")\n",
    "\n",
    "# Step 4: Define Weaviate Schema (Database Structure)\n",
    "client.schema.delete_all()  # Delete existing schema (if needed)\n",
    "schema = {\n",
    "    \"classes\": [\n",
    "        {\n",
    "            \"class\": \"Chatbot\",\n",
    "            \"description\": \"Documents for chatbot\",\n",
    "            \"vectorizer\": \"text2vec-transformers\",  # Using Hugging Face instead of OpenAI\n",
    "            \"moduleConfig\": {\"text2vec-transformers\": {}},  # No extra config needed\n",
    "            \"properties\": [\n",
    "                {\n",
    "                    \"dataType\": [\"text\"],\n",
    "                    \"description\": \"The content of the paragraph\",\n",
    "                    \"name\": \"content\",\n",
    "                },\n",
    "            ],\n",
    "        },\n",
    "    ]\n",
    "}\n",
    "\n",
    "client.schema.create(schema)\n",
    "print(\"Weaviate schema created.\")\n",
    "\n",
    "# Step 5: Store Text Chunks in Weaviate\n",
    "vectorstore = Weaviate(client, \"Chatbot\", \"content\", attributes=[\"source\"])\n",
    "text_meta_pair = [(doc.page_content, doc.metadata) for doc in docs]\n",
    "texts, meta = list(zip(*text_meta_pair))\n",
    "vectorstore.add_texts(texts, meta)\n",
    "print(\"Documents uploaded to Weaviate.\")\n",
    "\n",
    "# Step 6: Perform Similarity Search\n",
    "query = \"What is YOLO?\"\n",
    "docs = vectorstore.similarity_search(query, top_k=5)  # Retrieve top 5 most relevant texts\n",
    "print(\"Search results:\", docs)\n",
    "\n",
    "# Print retrieved documents\n",
    "for i, doc in enumerate(docs, 1):\n",
    "    print(f\"\\nResult {i}:\\n\", doc.page_content)\n"
   ]
  }
 ],
 "metadata": {
  "kernelspec": {
   "display_name": "Python 3",
   "language": "python",
   "name": "python3"
  },
  "language_info": {
   "codemirror_mode": {
    "name": "ipython",
    "version": 3
   },
   "file_extension": ".py",
   "mimetype": "text/x-python",
   "name": "python",
   "nbconvert_exporter": "python",
   "pygments_lexer": "ipython3",
   "version": "3.9.13"
  }
 },
 "nbformat": 4,
 "nbformat_minor": 2
}
